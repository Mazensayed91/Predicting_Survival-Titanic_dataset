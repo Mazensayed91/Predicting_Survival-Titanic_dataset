{
 "cells": [
  {
   "cell_type": "code",
   "execution_count": 167,
   "metadata": {},
   "outputs": [],
   "source": [
    "import pandas as pd\n",
    "import matplotlib.pyplot as plt\n",
    "import numpy as np\n",
    "from sklearn.linear_model import LogisticRegression\n",
    "from sklearn import neighbors\n",
    "from sklearn.svm import SVC\n",
    "import seaborn as sns; sns.set(style=\"ticks\", color_codes=True)"
   ]
  },
  {
   "cell_type": "code",
   "execution_count": 153,
   "metadata": {},
   "outputs": [
    {
     "name": "stdout",
     "output_type": "stream",
     "text": [
      "Index(['Pclass', 'Age', 'SibSp', 'Parch', 'Fare', 'Embarked', 'sex_encoded'], dtype='object')\n",
      "          sex_encoded\n",
      "Survived             \n",
      "0            0.852459\n",
      "1            0.318713\n"
     ]
    },
    {
     "data": {
      "image/png": "[encoded data removed]",
      "text/plain": [
       "<Figure size 432x648 with 6 Axes>"
      ]
     },
     "metadata": {},
     "output_type": "display_data"
    }
   ],
   "source": [
    "train = pd.read_csv('Desktop/datasets/Titanic_dataset/train.csv')\n",
    "test = pd.read_csv('Desktop/datasets/Titanic_dataset/test.csv')\n",
    "\n",
    "#Dropping unimportant columns\n",
    "\n",
    "train = train.drop(['PassengerId','Name','Cabin','Ticket'],axis=1)\n",
    "X_test = test.drop(['PassengerId','Name','Cabin','Ticket'],axis=1)\n",
    "train.columns\n",
    "\n",
    "\n",
    "#Exploring Corrleation between surviving-pclass and age\n",
    "\n",
    "g = sns.FacetGrid(train,col = 'Survived',row='Pclass')\n",
    "g.map(plt.hist,'Age',bins=20)\n",
    "\n",
    "#Encoding Sex and Embarked columns\n",
    "\n",
    "train['sex_encoded'] = train['Sex'].apply(lambda sex: 1 if sex == 'male' else 0)\n",
    "X_test['sex_encoded'] = X_test['Sex'].apply(lambda sex: 1 if sex == 'male' else 0)\n",
    "train = train.drop(['Sex'],axis=1) \n",
    "X_test = X_test.drop(['Sex'],axis=1)\n",
    "print(X_test.columns)\n",
    "print(train[['Survived','sex_encoded']].groupby('Survived').mean())\n",
    "\n",
    "for i in range(len(train)):\n",
    "    if train.iloc[i,6] == 'Q':\n",
    "        train.iloc[i,6] = 1\n",
    "    elif train.iloc[i,6] == 'S':\n",
    "        train.iloc[i,6] = 2\n",
    "    else:\n",
    "        train.iloc[i,6] = 3\n",
    "        \n",
    "for i in range(len(test)):\n",
    "    if X_test.iloc[i,5] == 'Q':\n",
    "        X_test.iloc[i,5] = 1\n",
    "    elif X_test.iloc[i,5] == 'S':\n",
    "        X_test.iloc[i,5] = 2\n",
    "    else:\n",
    "        X_test.iloc[i,5] = 3"
   ]
  },
  {
   "cell_type": "code",
   "execution_count": 154,
   "metadata": {},
   "outputs": [
    {
     "name": "stdout",
     "output_type": "stream",
     "text": [
      "                          Age\n",
      "sex_encoded Pclass           \n",
      "0           1       34.611765\n",
      "            2       28.722973\n",
      "            3       21.750000\n",
      "1           1       41.281386\n",
      "            2       30.740707\n",
      "            3       26.507589\n",
      "                          Age\n",
      "sex_encoded Pclass           \n",
      "0           1       41.333333\n",
      "            2       24.376552\n",
      "            3       23.073400\n",
      "1           1       40.520000\n",
      "            2       30.940678\n",
      "            3       24.525104\n"
     ]
    }
   ],
   "source": [
    "#Splitting features and output\n",
    "\n",
    "y_train = train['Survived']\n",
    "X_train = train.drop('Survived',axis=1)\n",
    "\n",
    "#fill nan values by the mean of each category from the 6 categories that will make more accurate filling\n",
    "\n",
    "\n",
    "print(X_train[['sex_encoded','Age','Pclass']].groupby(['sex_encoded','Pclass']).mean())\n",
    "\n",
    "for i in range(len(X_train)):\n",
    "    if (X_train.iloc[i,6] == 1) and (X_train.iloc[i,0] == 1):\n",
    "        X_train.iloc[i,1] = 41.281386\n",
    "    elif X_train.iloc[i,6] == 1 and X_train.iloc[i,0] == 2:\n",
    "        X_train.iloc[i,1] = 30.740707\n",
    "    elif X_train.iloc[i,6] == 1 and X_train.iloc[i,0] == 3:\n",
    "        X_train.iloc[i,1] = 26.507589\n",
    "    elif X_train.iloc[i,6] == 0 and X_train.iloc[i,0] == 1:\n",
    "        X_train.iloc[i,1] = 34.611765\n",
    "    elif X_train.iloc[i,6] == 0 and X_train.iloc[i,0] == 2:\n",
    "        X_train.iloc[i,1] = 28.722973\n",
    "    elif X_train.iloc[i,6] == 0 and X_train.iloc[i,0] == 3:\n",
    "        X_train.iloc[i,1] = 21.750000\n",
    "\n",
    "print(X_test[['sex_encoded','Age','Pclass']].groupby(['sex_encoded','Pclass']).mean())\n",
    "\n",
    "for i in range(len(X_test)):\n",
    "    if X_test.iloc[i,6] == 1 and X_test.iloc[i,0] == 1:\n",
    "        X_test.iloc[i,1] = 40.520000\n",
    "    elif X_test.iloc[i,6] == 1 and X_test.iloc[i,0] == 2:\n",
    "        X_test.iloc[i,1] = 30.940678\n",
    "    elif X_test.iloc[i,6] == 1 and X_test.iloc[i,0] == 3:\n",
    "        X_test.iloc[i,1] = 24.525104\n",
    "    elif X_test.iloc[i,6] == 0 and X_test.iloc[i,0] == 1:\n",
    "        X_test.iloc[i,1] = 41.333333\n",
    "    elif X_test.iloc[i,6] == 0 and X_test.iloc[i,0] == 2:\n",
    "        X_test.iloc[i,1] = 24.376552\n",
    "    elif X_test.iloc[i,6] == 0 and X_test.iloc[i,0] == 3:\n",
    "        X_test.iloc[i,1] = 23.073400\n",
    "X_test['Fare'].fillna(X_test['Fare'].mean(),inplace=True)\n"
   ]
  },
  {
   "cell_type": "code",
   "execution_count": 168,
   "metadata": {},
   "outputs": [
    {
     "name": "stderr",
     "output_type": "stream",
     "text": [
      "C:\\Users\\Lenovo\\Anaconda3\\lib\\site-packages\\sklearn\\linear_model\\logistic.py:432: FutureWarning: Default solver will be changed to 'lbfgs' in 0.22. Specify a solver to silence this warning.\n",
      "  FutureWarning)\n",
      "C:\\Users\\Lenovo\\Anaconda3\\lib\\site-packages\\sklearn\\svm\\base.py:193: FutureWarning: The default value of gamma will change from 'auto' to 'scale' in version 0.22 to account better for unscaled features. Set gamma explicitly to 'auto' or 'scale' to avoid this warning.\n",
      "  \"avoid this warning.\", FutureWarning)\n"
     ]
    }
   ],
   "source": [
    "model1 = LogisticRegression()\n",
    "model1.fit(X_train,y_train)\n",
    "model2 = neighbors.KNeighborsClassifier(n_neighbors=5)\n",
    "model2.fit(X_train,y_train)\n",
    "model3 = SVC()\n",
    "model3.fit(X_train,y_train)\n",
    "y_pred1 = model1.predict(X_test)\n",
    "y_pred2 = model2.predict(X_test)\n",
    "y_pred3 = model3.predict(X_test)\n",
    "\n",
    "#Logistic regrssion has the highest accuracy\n",
    "\n",
    "submission = pd.Series(y_pred1,index=np.arange(892,892+len(y_pred1),1))\n",
    "submission2 = pd.Series(y_pred2,index=np.arange(892,892+len(y_pred2),1))\n",
    "submission3 = pd.Series(y_pred3,index=np.arange(892,892+len(y_pred2),1))\n",
    "\n",
    "submission1.to_csv('Desktop/submission1.csv')\n",
    "submission2.to_csv('Desktop/submission2.csv')\n",
    "submission3.to_csv('Desktop/submission3.csv')"
   ]
  },
  {
   "cell_type": "code",
   "execution_count": null,
   "metadata": {},
   "outputs": [],
   "source": []
  }
 ],
 "metadata": {
  "kernelspec": {
   "display_name": "Python 3",
   "language": "python",
   "name": "python3"
  },
  "language_info": {
   "codemirror_mode": {
    "name": "ipython",
    "version": 3
   },
   "file_extension": ".py",
   "mimetype": "text/x-python",
   "name": "python",
   "nbconvert_exporter": "python",
   "pygments_lexer": "ipython3",
   "version": "3.7.3"
  }
 },
 "nbformat": 4,
 "nbformat_minor": 2
}
